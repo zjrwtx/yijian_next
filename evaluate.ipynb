{
 "cells": [
  {
   "cell_type": "code",
   "execution_count": null,
   "id": "f5388764-9cca-4c69-82b8-941962900096",
   "metadata": {},
   "outputs": [],
   "source": [
    "!pip install 'evalscope[app]'"
   ]
  },
  {
   "cell_type": "code",
   "execution_count": null,
   "id": "a08c29ba-091a-4169-b6f0-3218f7c7ae9f",
   "metadata": {},
   "outputs": [],
   "source": [
    "!pip install tiktoken omegaconf"
   ]
  },
  {
   "cell_type": "code",
   "execution_count": null,
   "id": "d963ad38-6442-4450-b86d-be077996e493",
   "metadata": {},
   "outputs": [],
   "source": [
    "!evalscope app --outputs ./outputs"
   ]
  },
  {
   "cell_type": "code",
   "execution_count": null,
   "id": "15d47bae-4a20-4d20-80e0-f34ea82a80a5",
   "metadata": {},
   "outputs": [],
   "source": [
    "from evalscope import TaskConfig, run_task\n",
    "\n",
    "task_cfg = TaskConfig(\n",
    "    model='qwen/Qwen2-0.5B-Instruct',\n",
    "    datasets=['general_qa'],  # 数据格式，选择题格式固定为 'general_qa'\n",
    "    dataset_args={\n",
    "        'general_qa': {\n",
    "            \"local_path\": \"data\",  # 自定义数据集路径\n",
    "            \"subset_list\": [\n",
    "                \"test\"       # 评测数据集名称，上述 *.jsonl 中的 *\n",
    "            ],\n",
    "            \"prompt_template\": \"你是一个严谨且富有经验的临床医生，请你根据患者信息提出你怀疑的疾病可能有哪些，且为了做出鉴别诊断，应该做什么检验项目？\\n{query}\",\n",
    "        }\n",
    "    },\n",
    "    limit=5,\n",
    "    judge_strategy= \"auto\",\n",
    "    generation_config= {\n",
    "\n",
    "        \"max_new_tokens\": 4090,\n",
    "\n",
    "        \"top_k\": 50,\n",
    "        \"top_p\": 1.0,\n",
    "        \"temperature\": 1.0\n",
    "    },\n",
    ")\n",
    "\n",
    "run_task(task_cfg=task_cfg)"
   ]
  },
  {
   "cell_type": "code",
   "execution_count": null,
   "id": "b317a7e7-f4b6-4139-b4d6-ac50c1eec053",
   "metadata": {},
   "outputs": [],
   "source": [
    "!evalscope eval \\\n",
    " --model Qwen/Qwen2.5-0.5B-Instruct \\\n",
    " --datasets gsm8k arc \\\n",
    " --limit 5"
   ]
  },
  {
   "cell_type": "code",
   "execution_count": null,
   "id": "b36a75e5-39ae-4a57-ba4b-f16ea88a0f91",
   "metadata": {},
   "outputs": [],
   "source": []
  }
 ],
 "metadata": {
  "kernelspec": {
   "display_name": "Python 3 (ipykernel)",
   "language": "python",
   "name": "python3"
  },
  "language_info": {
   "codemirror_mode": {
    "name": "ipython",
    "version": 3
   },
   "file_extension": ".py",
   "mimetype": "text/x-python",
   "name": "python",
   "nbconvert_exporter": "python",
   "pygments_lexer": "ipython3",
   "version": "3.10.12"
  }
 },
 "nbformat": 4,
 "nbformat_minor": 5
}
